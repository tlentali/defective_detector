{
 "cells": [
  {
   "cell_type": "code",
   "execution_count": null,
   "id": "213ed055",
   "metadata": {
    "scrolled": false
   },
   "outputs": [],
   "source": [
    "import pandas as pd\n",
    "import pandas_profiling\n",
    "import plotly.graph_objects as go"
   ]
  },
  {
   "cell_type": "markdown",
   "id": "115f98f5",
   "metadata": {},
   "source": [
    "# Read data"
   ]
  },
  {
   "cell_type": "code",
   "execution_count": null,
   "id": "b738fd6c",
   "metadata": {},
   "outputs": [],
   "source": [
    "df = pd.read_csv('../data/data.csv', sep=',')\n",
    "df.head()"
   ]
  },
  {
   "cell_type": "code",
   "execution_count": null,
   "id": "3561240e",
   "metadata": {},
   "outputs": [],
   "source": [
    "df['DEFECTIVE'].value_counts()"
   ]
  },
  {
   "cell_type": "markdown",
   "id": "516fda9b",
   "metadata": {},
   "source": [
    "# Date formating"
   ]
  },
  {
   "cell_type": "code",
   "execution_count": null,
   "id": "180ef362",
   "metadata": {},
   "outputs": [],
   "source": [
    "df['DATE_ORDER'] = pd.to_datetime(df['DATE_ORDER'], format=\"%Y-%m-%d\")\n",
    "df['CONTACT_DATE'] = pd.to_datetime(df['CONTACT_DATE'], format=\"%Y-%m-%d\")\n",
    "df['PRODUCT_RELEASE_DATE'] = pd.to_datetime(df['PRODUCT_RELEASE_DATE'], format=\"%Y-%m-%d\")"
   ]
  },
  {
   "cell_type": "markdown",
   "id": "d69b37a2",
   "metadata": {},
   "source": [
    "# EDA\n",
    "\n",
    "Here we will have a look at a sample of data using `pandas_profiling`.  \n",
    "It will allow us to get a quick overall view of each columns.  \n",
    "This EDA is also available [here](https://tlentali.github.io/car_market/)"
   ]
  },
  {
   "cell_type": "code",
   "execution_count": null,
   "id": "7f507587",
   "metadata": {},
   "outputs": [],
   "source": [
    "df_sample = df.sample(frac=0.25, replace=False, random_state=1)\n",
    "pandas_profiling.ProfileReport(df_sample)"
   ]
  },
  {
   "cell_type": "markdown",
   "id": "0f7991e7",
   "metadata": {},
   "source": [
    "# Filter `DEFECTIVE` on 30 days"
   ]
  },
  {
   "cell_type": "code",
   "execution_count": null,
   "id": "f178788a",
   "metadata": {},
   "outputs": [],
   "source": [
    "df['NB_DAYS_PROBLEM_START'] = (df['CONTACT_DATE'] - df['DATE_ORDER']).dt.days\n",
    "df.head()"
   ]
  },
  {
   "cell_type": "code",
   "execution_count": null,
   "id": "a0273df6",
   "metadata": {},
   "outputs": [],
   "source": [
    "fig = go.Figure(data=[go.Histogram(x=df['NB_DAYS_PROBLEM_START'])])\n",
    "fig.show()"
   ]
  },
  {
   "cell_type": "code",
   "execution_count": null,
   "id": "1c98ceaf",
   "metadata": {},
   "outputs": [],
   "source": [
    "df = df[(df['NB_DAYS_PROBLEM_START']<=30) | (df['NB_DAYS_PROBLEM_START'].isna())]\n",
    "df.head()"
   ]
  },
  {
   "cell_type": "code",
   "execution_count": null,
   "id": "ebca956e",
   "metadata": {},
   "outputs": [],
   "source": [
    "df['DEFECTIVE'].value_counts()"
   ]
  },
  {
   "cell_type": "markdown",
   "id": "4825df82",
   "metadata": {},
   "source": [
    "# `PRICE` cleanup"
   ]
  },
  {
   "cell_type": "markdown",
   "id": "664140bc",
   "metadata": {},
   "source": [
    "## Cut on `PRICE`\n",
    "\n",
    "We will have a look on the `PRICE` distribution using different filter to get a better understanding of the data."
   ]
  },
  {
   "cell_type": "code",
   "execution_count": null,
   "id": "66a4e6f5",
   "metadata": {},
   "outputs": [],
   "source": [
    "fig = go.Figure()\n",
    "fig.add_trace(go.Histogram(x=df[df['DEFECTIVE'] == True]['PRICE']))\n",
    "fig.add_trace(go.Histogram(x=df[df['DEFECTIVE'] == False]['PRICE']))\n",
    "\n",
    "# The two histograms are drawn on top of another\n",
    "fig.update_layout(barmode='stack')\n",
    "fig.show()"
   ]
  },
  {
   "cell_type": "code",
   "execution_count": null,
   "id": "ffa7ae1b",
   "metadata": {},
   "outputs": [],
   "source": [
    "fig = go.Figure()\n",
    "fig.add_trace(go.Histogram(x=df[df['PRODUCT_CATEGORY'] == 'motorcycle']['PRICE']))\n",
    "fig.add_trace(go.Histogram(x=df[df['PRODUCT_CATEGORY'] == 'Car']['PRICE']))\n",
    "\n",
    "# The two histograms are drawn on top of another\n",
    "fig.update_layout(barmode='stack')\n",
    "fig.show()"
   ]
  },
  {
   "cell_type": "code",
   "execution_count": null,
   "id": "b27a60f3",
   "metadata": {},
   "outputs": [],
   "source": [
    "fig = go.Figure()\n",
    "fig.add_trace(go.Histogram(x=df[(df['DEFECTIVE'] == True) & (df['PRODUCT_CATEGORY'] == 'motorcycle')]['PRICE']))\n",
    "fig.add_trace(go.Histogram(x=df[(df['DEFECTIVE'] == False) & (df['PRODUCT_CATEGORY'] == 'motorcycle')]['PRICE']))\n",
    "\n",
    "# The two histograms are drawn on top of another\n",
    "fig.update_layout(barmode='stack')\n",
    "fig.show()"
   ]
  },
  {
   "cell_type": "code",
   "execution_count": null,
   "id": "cbbefd52",
   "metadata": {},
   "outputs": [],
   "source": [
    "fig = go.Figure()\n",
    "fig.add_trace(go.Histogram(x=df[(df['DEFECTIVE'] == True) & (df['MODEL'] == 'HERITAGE Young')]['PRICE_NEW']))\n",
    "fig.add_trace(go.Histogram(x=df[(df['DEFECTIVE'] == False) & (df['MODEL'] == 'HERITAGE Young')]['PRICE_NEW']))\n",
    "\n",
    "# The two histograms are drawn on top of another\n",
    "fig.update_layout(barmode='stack')\n",
    "fig.show()"
   ]
  },
  {
   "cell_type": "code",
   "execution_count": null,
   "id": "a4e1068e",
   "metadata": {
    "scrolled": false
   },
   "outputs": [],
   "source": [
    "fig = go.Figure(data=[go.Histogram(x=df['PRICE'])])\n",
    "fig.show()"
   ]
  },
  {
   "cell_type": "code",
   "execution_count": null,
   "id": "461a34fd",
   "metadata": {},
   "outputs": [],
   "source": [
    "df[df['PRICE']<50_000].sort_values(by='PRICE', ascending=False).head()"
   ]
  },
  {
   "cell_type": "code",
   "execution_count": null,
   "id": "9c3dea82",
   "metadata": {},
   "outputs": [],
   "source": [
    "len(df[df['PRICE']>60_000])"
   ]
  },
  {
   "cell_type": "code",
   "execution_count": null,
   "id": "fba30524",
   "metadata": {},
   "outputs": [],
   "source": [
    "df[df['PRICE']>60_000]['DEFECTIVE'].value_counts()"
   ]
  },
  {
   "cell_type": "markdown",
   "id": "765e655f",
   "metadata": {},
   "source": [
    "Here we can setup the fact that above 60_000 euro, the very thin tail in this distribution of price end.\n",
    "Their is a lot of noise at around 406_000 euro to 450_000 euro that we can ride of.\n",
    "By cutting from this price, we are losing 1536 rows, including 105 true defective items."
   ]
  },
  {
   "cell_type": "code",
   "execution_count": null,
   "id": "9226f54e",
   "metadata": {},
   "outputs": [],
   "source": [
    "df = df[df['PRICE']<=60_000]"
   ]
  },
  {
   "cell_type": "code",
   "execution_count": null,
   "id": "ab6f45ae",
   "metadata": {},
   "outputs": [],
   "source": [
    "fig = go.Figure(data=[go.Histogram(x=df['PRICE'])])\n",
    "fig.show()"
   ]
  },
  {
   "cell_type": "markdown",
   "id": "a613d068",
   "metadata": {},
   "source": [
    "## Cut on `PRICE_FROM_NEW_PERC`"
   ]
  },
  {
   "cell_type": "markdown",
   "id": "d0c1292e",
   "metadata": {},
   "source": [
    "Same exercice but on the `PRICE_FROM_NEW_PERC` column."
   ]
  },
  {
   "cell_type": "code",
   "execution_count": null,
   "id": "c5a2c35b",
   "metadata": {},
   "outputs": [],
   "source": [
    "df = df.copy()\n",
    "df['PRICE_FROM_NEW_PERC'] = (df['PRICE'] - df['PRICE_NEW']) * 100 /  df['PRICE_NEW']\n",
    "df.head()"
   ]
  },
  {
   "cell_type": "code",
   "execution_count": null,
   "id": "754ea2de",
   "metadata": {},
   "outputs": [],
   "source": [
    "fig = go.Figure(data=[go.Histogram(x=df['PRICE_FROM_NEW_PERC'])])\n",
    "fig.show()"
   ]
  },
  {
   "cell_type": "code",
   "execution_count": null,
   "id": "095c1217",
   "metadata": {},
   "outputs": [],
   "source": [
    "len(df[df['PRICE_FROM_NEW_PERC']>100])"
   ]
  },
  {
   "cell_type": "code",
   "execution_count": null,
   "id": "d0a69b09",
   "metadata": {},
   "outputs": [],
   "source": [
    "df[df['PRICE_FROM_NEW_PERC']>100]['DEFECTIVE'].value_counts()"
   ]
  },
  {
   "cell_type": "markdown",
   "id": "a9207031",
   "metadata": {},
   "source": [
    "Based on the distribution above, we are going to cut item that has been sold twice their origin price, losing 427 rows, including 49 true defective items."
   ]
  },
  {
   "cell_type": "code",
   "execution_count": null,
   "id": "391e8dea",
   "metadata": {},
   "outputs": [],
   "source": [
    "df = df[df['PRICE_FROM_NEW_PERC']<=100]"
   ]
  },
  {
   "cell_type": "code",
   "execution_count": null,
   "id": "08a9559e",
   "metadata": {},
   "outputs": [],
   "source": [
    "fig = go.Figure(data=[go.Histogram(x=df['PRICE_FROM_NEW_PERC'])])\n",
    "fig.show()"
   ]
  },
  {
   "cell_type": "markdown",
   "id": "b86f6c47",
   "metadata": {},
   "source": [
    "## New defective count\n",
    "\n",
    "Check the new dataset obtained after applied filters on dates and prices."
   ]
  },
  {
   "cell_type": "code",
   "execution_count": null,
   "id": "1f782ae0",
   "metadata": {},
   "outputs": [],
   "source": [
    "df['DEFECTIVE'].value_counts()"
   ]
  },
  {
   "cell_type": "code",
   "execution_count": null,
   "id": "11994e8f",
   "metadata": {
    "scrolled": true
   },
   "outputs": [],
   "source": [
    "df_sample = df.sample(frac=0.25, replace=False, random_state=1)\n",
    "pandas_profiling.ProfileReport(df_sample)"
   ]
  }
 ],
 "metadata": {
  "kernelspec": {
   "display_name": "env_car_market",
   "language": "python",
   "name": "env_car_market"
  },
  "language_info": {
   "codemirror_mode": {
    "name": "ipython",
    "version": 3
   },
   "file_extension": ".py",
   "mimetype": "text/x-python",
   "name": "python",
   "nbconvert_exporter": "python",
   "pygments_lexer": "ipython3",
   "version": "3.7.13"
  }
 },
 "nbformat": 4,
 "nbformat_minor": 5
}
